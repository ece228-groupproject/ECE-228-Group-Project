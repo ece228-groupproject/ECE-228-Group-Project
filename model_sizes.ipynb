{
 "cells": [
  {
   "cell_type": "markdown",
   "id": "a99cfd9d",
   "metadata": {},
   "source": [
    "# Calculating Model Sizes\n",
    "Here we are calculating the memory consumption of each model for the report"
   ]
  },
  {
   "cell_type": "code",
   "execution_count": 1,
   "id": "be01bb41",
   "metadata": {},
   "outputs": [],
   "source": [
    "import torch\n",
    "import torchvision as tv"
   ]
  },
  {
   "cell_type": "code",
   "execution_count": 8,
   "id": "2577b3e7",
   "metadata": {},
   "outputs": [
    {
     "name": "stdout",
     "output_type": "stream",
     "text": [
      "69.42941284179688\n"
     ]
    }
   ],
   "source": [
    "num_classes = 56 #56 form compressed csv,\n",
    "model = tv.models.densenet201(num_classes=num_classes)\n",
    "\n",
    "size = sum(p.numel() * p.element_size() for p in model.parameters())\n",
    "print(size / (1024 ** 2))  # Convert to MB"
   ]
  }
 ],
 "metadata": {
  "kernelspec": {
   "display_name": "Python 3",
   "language": "python",
   "name": "python3"
  },
  "language_info": {
   "codemirror_mode": {
    "name": "ipython",
    "version": 3
   },
   "file_extension": ".py",
   "mimetype": "text/x-python",
   "name": "python",
   "nbconvert_exporter": "python",
   "pygments_lexer": "ipython3",
   "version": "3.10.8"
  }
 },
 "nbformat": 4,
 "nbformat_minor": 5
}
