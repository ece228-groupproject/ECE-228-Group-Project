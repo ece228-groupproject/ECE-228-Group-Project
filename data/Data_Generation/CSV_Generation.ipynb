{
 "cells": [
  {
   "cell_type": "code",
   "execution_count": 3,
   "metadata": {
    "_cell_guid": "b1076dfc-b9ad-4769-8c92-a6c4dae69d19",
    "_uuid": "8f2839f25d086af736a60e9eeb907d3b93b6e0e5",
    "trusted": true
   },
   "outputs": [],
   "source": [
    "# This Python 3 environment comes with many helpful analytics libraries installed\n",
    "# It is defined by the kaggle/python Docker image: https://github.com/kaggle/docker-python\n",
    "# For example, here's several helpful packages to load\n",
    "\n",
    "import numpy as np # linear algebra\n",
    "import pandas as pd # data processing, CSV file I/O (e.g. pd.read_csv)\n",
    "\n",
    "# Input data files are available in the read-only \"../input/\" directory\n",
    "# For example, running this (by clicking run or pressing Shift+Enter) will list all files under the input directory\n",
    "#hello\n",
    "import os\n",
    "#for dirname in os.listdir('data\\\\compressed_dataset'):\n",
    "#    print(os.path.join(dirname))\n",
    "\n",
    "# You can write up to 20GB ito the current directory (/kaggle/working/) that gets preserved as output when you create a version using \"Save & Run All\" \n",
    "# You can also write temporary files to /kaggle/temp/, but they won't be saved outside of the current session"
   ]
  },
  {
   "cell_type": "markdown",
   "metadata": {},
   "source": [
    "[GeoLocation - Geoguessr Images (50K):](https://www.kaggle.com/datasets/ubitquitin/geolocation-geoguessr-images-50k/data)\n",
    "Bias: 1/5 images from the US. Less than 200 countries\n",
    "File structure:\n",
    "- compressed_dataset\n",
    "    - country\n",
    "        - jpg image\n",
    "     \n",
    "[All Captial Cities in the World:](https://www.kaggle.com/datasets/dataanalyst001/all-capital-cities-in-the-world)\n",
    "Description: 200 capital cities from around the world, detailing their respective countries, continents, and precise geographical coordinates in terms of latitude and longitude\n",
    "File type: csv\n",
    "\n",
    "[country_lat_long:](https://www.kaggle.com/datasets/alexkaechele/country-geo)\n",
    "Descirption: latitude and longitude data for centroids of countries. 245 countries\n",
    "File type: csv"
   ]
  },
  {
   "cell_type": "code",
   "execution_count": 7,
   "metadata": {
    "trusted": true
   },
   "outputs": [
    {
     "ename": "NotADirectoryError",
     "evalue": "[WinError 267] The directory name is invalid: 'data\\\\compressed_dataset\\\\country.csv'",
     "output_type": "error",
     "traceback": [
      "\u001b[1;31m---------------------------------------------------------------------------\u001b[0m",
      "\u001b[1;31mNotADirectoryError\u001b[0m                        Traceback (most recent call last)",
      "Cell \u001b[1;32mIn[7], line 39\u001b[0m\n\u001b[0;32m     36\u001b[0m \u001b[38;5;28;01mif\u001b[39;00m country_folder\u001b[38;5;241m.\u001b[39mis_dir():\n\u001b[0;32m     37\u001b[0m     country_name \u001b[38;5;241m=\u001b[39m country_folder\u001b[38;5;241m.\u001b[39mname\n\u001b[1;32m---> 39\u001b[0m \u001b[38;5;28;01mfor\u001b[39;00m image_file \u001b[38;5;129;01min\u001b[39;00m \u001b[43mos\u001b[49m\u001b[38;5;241;43m.\u001b[39;49m\u001b[43mlistdir\u001b[49m\u001b[43m(\u001b[49m\u001b[43mcountry_folder\u001b[49m\u001b[38;5;241;43m.\u001b[39;49m\u001b[43mpath\u001b[49m\u001b[43m)\u001b[49m:\n\u001b[0;32m     40\u001b[0m     image_name \u001b[38;5;241m=\u001b[39m image_file\n\u001b[0;32m     41\u001b[0m     writer\u001b[38;5;241m.\u001b[39mwriterow([image_name,country_name])\n",
      "\u001b[1;31mNotADirectoryError\u001b[0m: [WinError 267] The directory name is invalid: 'data\\\\compressed_dataset\\\\country.csv'"
     ]
    }
   ],
   "source": [
    "import csv\n",
    "our_csv_filepath = \"data\\\\compressed_dataset\\\\country.csv\"\n",
    "if os.path.exists(our_csv_filepath):\n",
    "    os.remove(our_csv_filepath)\n",
    "\n",
    "#with open(\"/kaggle/input/geolocation-geoguesser-images-50k\",mode='r') as file:\n",
    "\n",
    "'''capital_dict = {}\n",
    "with open(\"/kaggle/input/all-capital-cities-in-the-world/all capital cities in the world.csv\",mode=\"r\",newline=\"\") as file:\n",
    "    reader=csv.DictReader(file)\n",
    "    for row in reader:\n",
    "        #print(row['Country'])\n",
    "        if (row[\"Latitude\"])[-1] == \"S\":\n",
    "            lat  = \"-\" + row[\"Latitude\"][0:-1]\n",
    "        elif (row[\"Latitude\"])[-1] == \"N\":\n",
    "            lat  = row[\"Latitude\"][0:-1]\n",
    "        \n",
    "        if (row[\"Longitude\"])[-1] == \"E\":\n",
    "            long  = \"-\"+(row[\"Longitude\"][0:-1])\n",
    "        elif (row[\"Longitude\"])[-1] == \"W\":\n",
    "            long  = row[\"Longitude\"][0:-1]\n",
    "        \n",
    "        capital_dict[row[\"Country\"]] = lat,long\n",
    "\n",
    "country_centroid = {}\n",
    "with open(\"/kaggle/input/country-geo/country_data.csv\",mode=\"r\",newline=\"\") as file:\n",
    "    reader=csv.DictReader(file)\n",
    "    for row in reader:\n",
    "        #print(row)\n",
    "        country_centroid[row[\"name\"]] = (row[\"latitude\"],row[\"longitude\"])\n",
    "img_not_dict = []'''\n",
    "with open(our_csv_filepath,mode=\"w\",newline=\"\") as file:\n",
    "    writer=csv.writer(file)\n",
    "    writer.writerow(['img name','country','centroid_coord','capital_coord'])\n",
    "    for country_folder in os.scandir(\"data\\\\compressed_dataset\\\\\"):\n",
    "        if country_folder.is_dir():\n",
    "            country_name = country_folder.name\n",
    "        \n",
    "        for image_file in os.listdir(country_folder.path):\n",
    "            image_name = image_file\n",
    "            writer.writerow([image_name,country_name])\n",
    "\n",
    "            "
   ]
  },
  {
   "cell_type": "code",
   "execution_count": null,
   "metadata": {
    "trusted": true
   },
   "outputs": [],
   "source": [
    "#print(capital_dict)\n",
    "#print(country_centroid)\n",
    "\n",
    "diff1 = set(capital_dict).difference(set(country_centroid),set(img_not_dict)) #in but not in blank & blank\n",
    "diff2 = set(country_centroid).difference(set(capital_dict),set(img_not_dict))\n",
    "diff3 = set(img_not_dict).difference(set(country_centroid),set(capital_dict))\n",
    "print(diff1,\"\\n\")\n",
    "\n",
    "print(diff2,\"\\n\")\n",
    "\n",
    "print(diff3,\"\\n\")"
   ]
  },
  {
   "cell_type": "code",
   "execution_count": null,
   "metadata": {
    "trusted": true
   },
   "outputs": [],
   "source": [
    "from tabulate import tabulate\n",
    "\n",
    "def print_csv_table(filename):\n",
    "    \"\"\"\n",
    "    Prints a CSV file as a formatted table.\n",
    "\n",
    "    Args:\n",
    "        filename (str): The path to the CSV file.\n",
    "    \"\"\"\n",
    "    with open(filename, 'r') as file:\n",
    "        reader = csv.reader(file)\n",
    "        \n",
    "        # Extract header and rows\n",
    "        header = next(reader)\n",
    "        rows = list(reader)\n",
    "    \n",
    "    print(tabulate(rows, headers=header, tablefmt=\"grid\"))\n",
    "\n",
    "# Example usage\n",
    "csv_filename = our_csv_filepath\n",
    "print_csv_table(csv_filename)"
   ]
  },
  {
   "cell_type": "code",
   "execution_count": null,
   "metadata": {
    "trusted": true
   },
   "outputs": [],
   "source": [
    "from PIL import Image\n",
    "\n",
    "def get_image_size(image_path):\n",
    "    try:\n",
    "        img = Image.open(image_path)\n",
    "        width, height = img.size\n",
    "        return width, height\n",
    "    except FileNotFoundError:\n",
    "        return \"Error: Image file not found.\"\n",
    "    except Exception as e:\n",
    "        return f\"An error occurred: {e}\"\n",
    "\n",
    "image_path = \"/kaggle/input/geolocation-geoguessr-images-50k/compressed_dataset/Aland/canvas_1629480180.jpg\"  # Replace with the actual path to your image file\n",
    "width, height = get_image_size(image_path)\n",
    "\n",
    "if isinstance(width, int) and isinstance(height, int):\n",
    "    print(f\"The pixel size of the image is: {width}x{height}\")\n",
    "else:\n",
    "    print(width)"
   ]
  },
  {
   "cell_type": "code",
   "execution_count": null,
   "metadata": {
    "trusted": true
   },
   "outputs": [],
   "source": []
  },
  {
   "cell_type": "code",
   "execution_count": null,
   "metadata": {
    "trusted": true
   },
   "outputs": [],
   "source": []
  },
  {
   "cell_type": "code",
   "execution_count": null,
   "metadata": {
    "trusted": true
   },
   "outputs": [],
   "source": []
  },
  {
   "cell_type": "code",
   "execution_count": null,
   "metadata": {
    "trusted": true
   },
   "outputs": [],
   "source": []
  },
  {
   "cell_type": "code",
   "execution_count": null,
   "metadata": {
    "trusted": true
   },
   "outputs": [],
   "source": []
  },
  {
   "cell_type": "code",
   "execution_count": null,
   "metadata": {
    "trusted": true
   },
   "outputs": [],
   "source": []
  }
 ],
 "metadata": {
  "kaggle": {
   "accelerator": "none",
   "dataSources": [
    {
     "datasetId": 152350,
     "sourceId": 351003,
     "sourceType": "datasetVersion"
    },
    {
     "datasetId": 1565016,
     "sourceId": 2577101,
     "sourceType": "datasetVersion"
    },
    {
     "datasetId": 3106760,
     "sourceId": 5351669,
     "sourceType": "datasetVersion"
    },
    {
     "datasetId": 3415124,
     "sourceId": 5954650,
     "sourceType": "datasetVersion"
    },
    {
     "datasetId": 5339319,
     "sourceId": 8871564,
     "sourceType": "datasetVersion"
    }
   ],
   "dockerImageVersionId": 31040,
   "isGpuEnabled": false,
   "isInternetEnabled": false,
   "language": "python",
   "sourceType": "notebook"
  },
  "kernelspec": {
   "display_name": "Python 3",
   "language": "python",
   "name": "python3"
  },
  "language_info": {
   "codemirror_mode": {
    "name": "ipython",
    "version": 3
   },
   "file_extension": ".py",
   "mimetype": "text/x-python",
   "name": "python",
   "nbconvert_exporter": "python",
   "pygments_lexer": "ipython3",
   "version": "3.10.8"
  }
 },
 "nbformat": 4,
 "nbformat_minor": 4
}
