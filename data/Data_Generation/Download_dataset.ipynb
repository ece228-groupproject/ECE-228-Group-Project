{
 "cells": [
  {
   "cell_type": "code",
   "execution_count": 1,
   "id": "1ac7c97c",
   "metadata": {},
   "outputs": [
    {
     "name": "stderr",
     "output_type": "stream",
     "text": [
      "c:\\Users\\jacob\\AppData\\Local\\Programs\\Python\\Python310\\lib\\site-packages\\tqdm\\auto.py:21: TqdmWarning: IProgress not found. Please update jupyter and ipywidgets. See https://ipywidgets.readthedocs.io/en/stable/user_install.html\n",
      "  from .autonotebook import tqdm as notebook_tqdm\n"
     ]
    },
    {
     "name": "stdout",
     "output_type": "stream",
     "text": [
      "Resuming download from 734003200 bytes (6413672338 bytes left)...\n",
      "Resuming download from https://www.kaggle.com/api/v1/datasets/download/ubitquitin/geolocation-geoguessr-images-50k?dataset_version_number=1 (734003200/7147675538) bytes left.\n"
     ]
    },
    {
     "name": "stderr",
     "output_type": "stream",
     "text": [
      "100%|██████████| 6.66G/6.66G [22:43<00:00, 4.70MB/s]  "
     ]
    },
    {
     "name": "stdout",
     "output_type": "stream",
     "text": [
      "Extracting files...\n"
     ]
    },
    {
     "name": "stderr",
     "output_type": "stream",
     "text": [
      "\n"
     ]
    }
   ],
   "source": [
    "\n",
    "import kaggle\n",
    "import kagglehub\n",
    "downloaded = False\n",
    "if not downloaded:\n",
    "    #dataset_name = \"mmontiel/tiny-lisa-traffic-sign-detection-dataset\"\n",
    "\n",
    "    #download_path = \"Datasets\\Traffic_Signs\"\n",
    "    path = kagglehub.dataset_download(\"ubitquitin/geolocation-geoguessr-images-50k\")\n",
    "    #kaggle.api.dataset_download_files(dataset_name, path=download_path, unzip=True)\n"
   ]
  },
  {
   "cell_type": "code",
   "execution_count": 2,
   "id": "14e7c08b",
   "metadata": {},
   "outputs": [
    {
     "name": "stdout",
     "output_type": "stream",
     "text": [
      "C:\\Users\\jacob\\.cache\\kagglehub\\datasets\\ubitquitin\\geolocation-geoguessr-images-50k\\versions\\1\n"
     ]
    }
   ],
   "source": [
    "print(path)"
   ]
  }
 ],
 "metadata": {
  "kernelspec": {
   "display_name": "Python 3",
   "language": "python",
   "name": "python3"
  },
  "language_info": {
   "codemirror_mode": {
    "name": "ipython",
    "version": 3
   },
   "file_extension": ".py",
   "mimetype": "text/x-python",
   "name": "python",
   "nbconvert_exporter": "python",
   "pygments_lexer": "ipython3",
   "version": "3.10.8"
  }
 },
 "nbformat": 4,
 "nbformat_minor": 5
}
