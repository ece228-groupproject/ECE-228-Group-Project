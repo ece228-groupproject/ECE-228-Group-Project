{
 "cells": [
  {
   "cell_type": "code",
   "execution_count": 70,
   "id": "a9c52028-5ce7-47da-8762-13721bde53f9",
   "metadata": {},
   "outputs": [
    {
     "name": "stdout",
     "output_type": "stream",
     "text": [
      "Using cpu device\n"
     ]
    }
   ],
   "source": [
    "import math\n",
    "import numpy as np\n",
    "import torch\n",
    "import torch.nn as nn\n",
    "import torch.nn.functional as F\n",
    "import matplotlib.pyplot as plt\n",
    "import torch.optim as optim\n",
    "from torch.utils.data import Dataset, DataLoader\n",
    "import matplotlib.pyplot as plt\n",
    "import math\n",
    "from torch.utils.data import DataLoader, random_split, TensorDataset\n",
    "import time\n",
    "\n",
    "import torchvision\n",
    "from torchvision.models import resnet152\n",
    "\n",
    "from PIL import Image\n",
    "import os\n",
    "#from torchvision import io\n",
    "\n",
    "# Comment it if you are not using mac\n",
    "%config InlineBackend.figure_format = 'retina'\n",
    "\n",
    "# Device Management (@Jacob)\n",
    "USE_GPU = True\n",
    "if USE_GPU and torch.cuda.is_available():\n",
    "    device = torch.device('cuda')\n",
    "else:\n",
    "    device = torch.device('cpu')\n",
    "#get models\n",
    "print(f\"Using {device} device\")"
   ]
  },
  {
   "cell_type": "code",
   "execution_count": 75,
   "id": "28b0f22a-ed93-4287-9999-8ce6794cf77a",
   "metadata": {},
   "outputs": [
    {
     "name": "stdout",
     "output_type": "stream",
     "text": [
      "Linear(in_features=2048, out_features=1000, bias=True)\n",
      "Linear(in_features=2048, out_features=2, bias=True)\n"
     ]
    }
   ],
   "source": [
    "model = torchvision.models.resnet152()\n",
    "print(model.fc)\n",
    "model.fc = nn.Linear(2048, 2)\n",
    "print(model.fc)\n",
    "\n",
    "# Take in the dataset\n",
    "# resizing: prepare data to input to pretrained resnet152 (224x224x3) \n",
    "\n",
    "def getpath():\n",
    "    path = os.getcwd()\n",
    "    return str(path)\n",
    "    "
   ]
  },
  {
   "cell_type": "code",
   "execution_count": 80,
   "id": "c5cd8874-e12f-4e51-9979-a125b7909c22",
   "metadata": {},
   "outputs": [
    {
     "data": {
      "text/plain": [
       "'/Users/johnshui/Downloads/ECE228/project_self'"
      ]
     },
     "execution_count": 80,
     "metadata": {},
     "output_type": "execute_result"
    }
   ],
   "source": [
    "# Isolated cell for manipulating/checking path\n",
    "getpath()\n",
    "#os.chdir('project_self')\n",
    "getpath()"
   ]
  },
  {
   "cell_type": "code",
   "execution_count": 81,
   "id": "3e0504e0-011e-493c-81a1-2af7caf4be7e",
   "metadata": {},
   "outputs": [
    {
     "data": {
      "text/plain": [
       "'/Users/johnshui/Downloads/ECE228/project_self'"
      ]
     },
     "execution_count": 81,
     "metadata": {},
     "output_type": "execute_result"
    }
   ],
   "source": [
    "# main/outermost folder\n",
    "main_path = 'CNN'\n",
    "# training images folder\n",
    "folder_path = 'train_transformed'\n",
    "# folder to store resized images\n",
    "resized_path = 'resized_train'\n",
    "\n",
    "current = getpath() # start from main_path (project_self)\n",
    "if current.lower().endswith(main_path):    \n",
    "    folder_contents = [i for i in os.listdir(folder_path) if i.lower().endswith('.jpg')]\n",
    "    for i in folder_contents:\n",
    "        os.chdir(folder_path)                 # into tt folder\n",
    "        image = Image.open(i)\n",
    "        resized = image.resize((224, 224))\n",
    "        os.chdir('../')                       # out of tt folder\n",
    "        os.chdir(resized_path)                # into rt folder\n",
    "        resized.save(f\"{i}_resized.jpg\") \n",
    "        os.chdir('../')                       # out of rt folder\n",
    "else: \n",
    "    print(f\"Current path: {getpath()}\")\n",
    "    raise Exception(f'Incorrect main path. Should be {main_path}')\n",
    "\n",
    "getpath()\n",
    "    \n",
    "    "
   ]
  },
  {
   "cell_type": "code",
   "execution_count": 69,
   "id": "00171fce-94c2-4ea3-b161-7c17df229da0",
   "metadata": {},
   "outputs": [],
   "source": [
    "# hyper parameters\n",
    "lr = 0.001\n",
    "max_lr = 0.01\n",
    "weight_decay = 0.00001\n",
    "epochs = 100\n",
    "\n",
    "# optimizer (adam), loss_fn (mseloss)\n",
    "loss_func = nn.MSELoss()\n",
    "optimizer = torch.optim.Adam(model.parameters(), lr=lr, weight_decay = weight_decay)\n",
    "scheduler = torch.optim.lr_scheduler.CosineAnnealingLR(optimizer, epochs, 1e-2)\n",
    "  # sch in transformer: \n",
    "  # lr_scheduler = torch.optim.lr_scheduler.OneCycleLR(optimizer, max_lr=max_lr, total_steps=epochs) #*len(train_loader))\n",
    "\n",
    "# fine tune with dataset\n",
    "# num output_classes = countries\n",
    "# Later: -> lat-lon = manual hardcode of ~approximate center/capital for each country\n",
    "# output lat-lon\n",
    "    "
   ]
  },
  {
   "cell_type": "code",
   "execution_count": null,
   "id": "8642cab6-6486-4579-bf46-047a4e72cf12",
   "metadata": {},
   "outputs": [],
   "source": []
  }
 ],
 "metadata": {
  "kernelspec": {
   "display_name": "Python 3 (ipykernel)",
   "language": "python",
   "name": "python3"
  },
  "language_info": {
   "codemirror_mode": {
    "name": "ipython",
    "version": 3
   },
   "file_extension": ".py",
   "mimetype": "text/x-python",
   "name": "python",
   "nbconvert_exporter": "python",
   "pygments_lexer": "ipython3",
   "version": "3.11.6"
  }
 },
 "nbformat": 4,
 "nbformat_minor": 5
}
