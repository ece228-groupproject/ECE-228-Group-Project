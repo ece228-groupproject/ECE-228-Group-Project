{
 "cells": [
  {
   "cell_type": "markdown",
   "id": "eb45a9b5",
   "metadata": {},
   "source": [
    "# Notebook Description\n",
    "This notebook annalyzes the results from each of the models that are saved in ./results/"
   ]
  },
  {
   "cell_type": "markdown",
   "id": "449bb3b2",
   "metadata": {},
   "source": [
    "## accuracy of each model in terms of...\n",
    "- country\n",
    "- distance from correct coordinate"
   ]
  },
  {
   "cell_type": "code",
   "execution_count": 14,
   "id": "6652fd61",
   "metadata": {},
   "outputs": [
    {
     "name": "stdout",
     "output_type": "stream",
     "text": [
      "accuracy of each model by country\n",
      "results/DenseNet-201-3_output.csv: 0.111 | rmse: 7897.842 km | countries predicted: {'United States'}\n",
      "results/ResNet-152-1_output.csv: 0.148 | rmse: 7990.636 km | countries predicted: {'United States', 'France'}\n",
      "results/ViT_b_16_output.csv: 0.111 | rmse: 8518.417 km | countries predicted: {'South Africa', 'United States', 'Japan'}\n",
      "results/output_csv_round_data.csv: 0.111 | rmse: 7852344.344 km | countries predicted: {'United States'}\n",
      "results/VGG-19BN-1_output.csv: 0.111 | rmse: 7897.842 km | countries predicted: {'United States'}\n"
     ]
    }
   ],
   "source": [
    "import csv\n",
    "import glob\n",
    "\n",
    "def accuracy_precision(csv_file):\n",
    "    with open(csv_file,\"r\") as file:\n",
    "        reader = csv.reader(file)\n",
    "        data = list(reader)\n",
    "        # Remove the first row (header)\n",
    "        data = data[1:]\n",
    "        \n",
    "        #metric init\n",
    "        num_correct = 0\n",
    "        dist_errors = []\n",
    "        correct_ctry = []\n",
    "        pred_ctry = []\n",
    "        \n",
    "        #data\n",
    "        for row in data:\n",
    "            dist_errors.append(float(row[8]))\n",
    "            correct_ctry.append(row[2])\n",
    "            pred_ctry.append(row[5])\n",
    "            \n",
    "        #process data)\n",
    "        rmse = (sum((error**2 for error in dist_errors))/len(dist_errors))**0.5\n",
    "        num_correct = sum(1 for i in range(len(correct_ctry)) if correct_ctry[i] == pred_ctry[i])\n",
    "            \n",
    "    return num_correct / len(correct_ctry), rmse, set(pred_ctry)\n",
    "\n",
    "print(\"accuracy of each model by country\")\n",
    "for csv_file in glob.glob(\"results/*.csv\"):\n",
    "    print(f\"{csv_file}: {accuracy_precision(csv_file)[0]:.3f} | rmse: {accuracy_precision(csv_file)[1]:.3f} km | countries predicted: {accuracy_precision(csv_file)[2]}\")\n"
   ]
  }
 ],
 "metadata": {
  "kernelspec": {
   "display_name": "ece228venv",
   "language": "python",
   "name": "python3"
  },
  "language_info": {
   "codemirror_mode": {
    "name": "ipython",
    "version": 3
   },
   "file_extension": ".py",
   "mimetype": "text/x-python",
   "name": "python",
   "nbconvert_exporter": "python",
   "pygments_lexer": "ipython3",
   "version": "3.11.1"
  }
 },
 "nbformat": 4,
 "nbformat_minor": 5
}
